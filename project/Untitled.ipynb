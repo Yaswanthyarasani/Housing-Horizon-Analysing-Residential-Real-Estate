{
 "cells": [
  {
   "cell_type": "code",
   "execution_count": 3,
   "id": "7c494532",
   "metadata": {},
   "outputs": [],
   "source": [
    "from collections import Counter\n",
    "import math\n",
    "def entropy(data):\n",
    "    labels = [record[-1] for record in data]\n",
    "    label_counts = Counter(labels)\n",
    "    entropy = 0.0\n",
    "    for count in label_counts.values():\n",
    "        probability = count / len(labels)\n",
    "        entropy -= probability * math.log2(probability)\n",
    "    return entropy\n"
   ]
  },
  {
   "cell_type": "code",
   "execution_count": 4,
   "id": "a75c751c",
   "metadata": {},
   "outputs": [],
   "source": [
    "def split_data(data, attribute_index):\n",
    "    attribute_values = set([record[attribute_index] for record in data])\n",
    "    split_data = [[] for _ in range(len(attribute_values))]\n",
    "    for record in data:\n",
    "        attribute_value = record[attribute_index]\n",
    "        split_data[list(attribute_values).index(attribute_value)].append(record)\n",
    "    return split_data"
   ]
  },
  {
   "cell_type": "code",
   "execution_count": null,
   "id": "7fc6dbd6",
   "metadata": {},
   "outputs": [],
   "source": [
    "def choose_best_attribute(data, attributes):\n",
    "    base_entropy = entropy(data)\n",
    "    best_info_gain = 0.0\n",
    "    best_attribute = None\n",
    "    for attribute_index in range(len(attributes) - 1):\n",
    "        attribute_values = set([record[attribute_index] for record in data])\n",
    "        new_entropy = 0.0\n",
    "        for attribute_value in attribute_values:\n",
    "            subset = [record for record in data if record[attribute_index] == attribute_value]\n",
    "            probability = len(subset) / len(data)\n",
    "            new_entropy += probability * entropy(subset)\n",
    "            info_gain = base_entropy - new_entropy\n",
    "            if info_gain &gt; best_info_gain:\n",
    "                best_info_gain = info_gain\n",
    "best_attribute = attribute_index\n",
    "return best_attribute\n",
    "\n",
    "def majority_vote(labels):\n",
    "label_counts = Counter(labels)\n",
    "majority_label = label_counts.most_common(1)[0][0]\n",
    "return majority_label"
   ]
  }
 ],
 "metadata": {
  "kernelspec": {
   "display_name": "Python 3 (ipykernel)",
   "language": "python",
   "name": "python3"
  },
  "language_info": {
   "codemirror_mode": {
    "name": "ipython",
    "version": 3
   },
   "file_extension": ".py",
   "mimetype": "text/x-python",
   "name": "python",
   "nbconvert_exporter": "python",
   "pygments_lexer": "ipython3",
   "version": "3.10.9"
  }
 },
 "nbformat": 4,
 "nbformat_minor": 5
}
